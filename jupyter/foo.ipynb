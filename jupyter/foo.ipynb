{
 "cells": [
  {
   "cell_type": "code",
   "execution_count": null,
   "id": "1587b111-6026-4fe7-aabb-b935a6249808",
   "metadata": {},
   "outputs": [],
   "source": [
    "%env ARG1=\"DEFAULT_ARG1\"\n",
    "%env ARG2=\"DEFAULT_ARG2\""
   ]
  },
  {
   "cell_type": "code",
   "execution_count": null,
   "id": "fda753b4-d45d-495d-9a3d-eeb7212a3137",
   "metadata": {},
   "outputs": [],
   "source": [
    "import time\n",
    "from os import environ as env\n",
    "import uuid\n",
    "import nbformat as nbf\n",
    "import jupyter_client as jc\n",
    "from ipykernel.kernelbase import Kernel\n",
    "\n",
    "f = open(\"/home/rcooray/\" + \"test-file.txt\", \"w\")\n",
    "f.write('args: {}, {}'.format(env['ARG1'], env['ARG2']) )\n",
    "f.close()\n",
    "\n",
    "print( \"Done ...\")\n",
    "\n",
    "#f = open(\"/home/rcooray/\" + \"test-file-\" + str(uuid.uuid4()), \"a\")\n",
    "#print('API_KEY:  {}'.format(env['API_KEY']))\n",
    "#try:  \n",
    "#  env['ARG1']\n",
    "#except KeyError: \n",
    "#  print('[error]: `ARG1` environment variable required')\n",
    "#  sys.exit(1)\n",
    "   \n",
    "#ntbk = nbf.read('foo.ipynb', nbf.NO_CONVERT)\n",
    "#print( \"meta: \" )\n",
    "#print( ntbk.cells[0] )\n",
    "\n",
    "# for cell in ntbk.cells:\n",
    "#     cell_tags = cell.get('metadata')\n",
    "#     print( cell_tags)\n"
   ]
  },
  {
   "cell_type": "code",
   "execution_count": null,
   "id": "688d9eba-33fa-401d-b73a-019b7d137613",
   "metadata": {},
   "outputs": [],
   "source": []
  }
 ],
 "metadata": {
  "kernelspec": {
   "display_name": "Python 3 (ipykernel)",
   "language": "python",
   "name": "python3"
  },
  "language_info": {
   "codemirror_mode": {
    "name": "ipython",
    "version": 3
   },
   "file_extension": ".py",
   "mimetype": "text/x-python",
   "name": "python",
   "nbconvert_exporter": "python",
   "pygments_lexer": "ipython3",
   "version": "3.9.12"
  }
 },
 "nbformat": 4,
 "nbformat_minor": 5
}
